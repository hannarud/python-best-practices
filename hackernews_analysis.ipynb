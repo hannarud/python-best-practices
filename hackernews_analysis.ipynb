{
 "cells": [
  {
   "cell_type": "markdown",
   "metadata": {},
   "source": [
    "# Hacker News articles analysis"
   ]
  },
  {
   "cell_type": "markdown",
   "metadata": {},
   "source": [
    "You can find the data set [here](https://www.kaggle.com/hacker-news/hacker-news-posts), but note that we have reduced from almost 300,000 rows to approximately 20,000 rows by removing all submissions that didn't receive any comments and then randomly sampling from the remaining submissions. You can download this downsampled data [here](https://dq-content.s3.amazonaws.com/356/hacker_news.csv).\n",
    "\n",
    "\n",
    "Below are descriptions of the columns:\n",
    "\n",
    "* **id**: the unique identifier from Hacker News for the post\n",
    "* **title**: the title of the post\n",
    "* **url**: the URL that the posts links to, if the post has a URL\n",
    "* **num_points**: the number of points the post acquired, calculated as the total number of upvotes minus the total number of downvotes\n",
    "* **num_comments**: the number of comments on the post\n",
    "* **author**: the username of the person who submitted the post\n",
    "* **created_at**: the date and time of the post's submission"
   ]
  },
  {
   "cell_type": "markdown",
   "metadata": {},
   "source": [
    "## Setup"
   ]
  },
  {
   "cell_type": "code",
   "execution_count": 8,
   "metadata": {},
   "outputs": [],
   "source": [
    "# Imports\n",
    "from csv import reader\n",
    "import codecs\n",
    "import datetime as dt"
   ]
  },
  {
   "cell_type": "code",
   "execution_count": 2,
   "metadata": {},
   "outputs": [],
   "source": [
    "def open_file(filename, encoding=\"utf-8\"):\n",
    "    opened_file = codecs.open(filename, \"r\", encoding)\n",
    "    read_file = reader(opened_file)\n",
    "    apps_data = list(read_file)\n",
    "\n",
    "    return apps_data\n",
    "\n",
    "def explore_data(dataset, start, end, rows_and_columns=False):\n",
    "    dataset_slice = dataset[start:end]    \n",
    "    for row in dataset_slice:\n",
    "        print(row)\n",
    "        print('\\n') # adds a new (empty) line after each row\n",
    "\n",
    "    if rows_and_columns:\n",
    "        print('Number of rows:', len(dataset))\n",
    "        print('Number of columns:', len(dataset[0]))"
   ]
  },
  {
   "cell_type": "code",
   "execution_count": 3,
   "metadata": {},
   "outputs": [],
   "source": [
    "hacker_news_data = open_file('data/hacker_news.csv')\n",
    "\n",
    "hacker_news_data_header = hacker_news_data[0]\n",
    "hacker_news_data_content = hacker_news_data[1:]"
   ]
  },
  {
   "cell_type": "code",
   "execution_count": 4,
   "metadata": {},
   "outputs": [
    {
     "name": "stdout",
     "output_type": "stream",
     "text": [
      "Hacker News data header:\n",
      " ['id', 'title', 'url', 'num_points', 'num_comments', 'author', 'created_at']\n",
      "['12224879', 'Interactive Dynamic Video', 'http://www.interactivedynamicvideo.com/', '386', '52', 'ne0phyte', '8/4/2016 11:52']\n",
      "\n",
      "\n",
      "['10975351', 'How to Use Open Source and Shut the Fuck Up at the Same Time', 'http://hueniverse.com/2016/01/26/how-to-use-open-source-and-shut-the-fuck-up-at-the-same-time/', '39', '10', 'josep2', '1/26/2016 19:30']\n",
      "\n",
      "\n",
      "['11964716', \"Florida DJs May Face Felony for April Fools' Water Joke\", 'http://www.thewire.com/entertainment/2013/04/florida-djs-april-fools-water-joke/63798/', '2', '1', 'vezycash', '6/23/2016 22:20']\n",
      "\n",
      "\n",
      "['11919867', 'Technology ventures: From Idea to Enterprise', 'https://www.amazon.com/Technology-Ventures-Enterprise-Thomas-Byers/dp/0073523429', '3', '1', 'hswarna', '6/17/2016 0:01']\n",
      "\n",
      "\n",
      "['10301696', 'Note by Note: The Making of Steinway L1037 (2007)', 'http://www.nytimes.com/2007/11/07/movies/07stein.html?_r=0', '8', '2', 'walterbell', '9/30/2015 4:12']\n",
      "\n",
      "\n",
      "Number of rows: 20102\n",
      "Number of columns: 7\n"
     ]
    }
   ],
   "source": [
    "print(\"Hacker News data header:\\n\", hacker_news_data_header)\n",
    "\n",
    "explore_data(hacker_news_data_content, 0, 5, rows_and_columns=True)"
   ]
  },
  {
   "cell_type": "markdown",
   "metadata": {},
   "source": [
    "## Task statement\n",
    "\n",
    "We're specifically interested in posts with titles that begin with either **Ask HN** or **Show HN**. Users submit **Ask HN** posts to ask the Hacker News community a specific question. Below are a few examples:\n",
    "\n",
    "* Ask HN: How to improve my personal website?\n",
    "* Ask HN: Am I the only one outraged by Twitter shutting down share counts?\n",
    "* Ask HN: Aby recent changes to CSS that broke mobile?\n",
    "\n",
    "\n",
    "Likewise, users submit **Show HN** posts to show the Hacker News community a project, product, or just something interesting. Below are a few examples:\n",
    "\n",
    "* Show HN: Wio Link  ESP8266 Based Web of Things Hardware Development Platform'\n",
    "* Show HN: Something pointless I made\n",
    "* Show HN: Shanhu.io, a programming playground powered by e8vm\n",
    "\n",
    "\n",
    "We'll compare these two types of posts to determine the following:\n",
    "\n",
    "1. Do Ask HN or Show HN receive more comments on average?\n",
    "2. Do posts created at a certain time receive more comments on average?"
   ]
  },
  {
   "cell_type": "markdown",
   "metadata": {},
   "source": [
    "## Extracting Ask and Show post separately"
   ]
  },
  {
   "cell_type": "code",
   "execution_count": 5,
   "metadata": {},
   "outputs": [
    {
     "name": "stdout",
     "output_type": "stream",
     "text": [
      "Number of 'Ask' posts: 1744\n",
      "Number of 'Show' posts: 1162\n",
      "Number of other posts: 17192\n"
     ]
    }
   ],
   "source": [
    "ask_posts = []\n",
    "show_posts = []\n",
    "other_posts = []\n",
    "\n",
    "for row in hacker_news_data_content:\n",
    "    if len(row) != 7:\n",
    "        continue\n",
    "    title = row[1]\n",
    "    if title.lower().startswith('ask hn'):\n",
    "        ask_posts.append(row)\n",
    "    elif title.lower().startswith('show hn'):\n",
    "        show_posts.append(row)\n",
    "    else:\n",
    "        other_posts.append(row)\n",
    "\n",
    "print(\"Number of 'Ask' posts:\", len(ask_posts))\n",
    "print(\"Number of 'Show' posts:\", len(show_posts))\n",
    "print(\"Number of other posts:\", len(other_posts))"
   ]
  },
  {
   "cell_type": "markdown",
   "metadata": {},
   "source": [
    "## Calculating the Average Number of Comments for Ask HN and Show HN Posts"
   ]
  },
  {
   "cell_type": "code",
   "execution_count": 6,
   "metadata": {},
   "outputs": [
    {
     "name": "stdout",
     "output_type": "stream",
     "text": [
      "Average number of comments to 'Ask' posts: 14.038417431192661\n",
      "Average number of comments to 'Show' posts: 10.31669535283993\n",
      "Average number of comments to other posts: 26.87598883201489\n"
     ]
    }
   ],
   "source": [
    "def find_average_number_of_comments_in_dataset(dataset):\n",
    "    total_comments = 0\n",
    "\n",
    "    for row in dataset:\n",
    "        number_of_comments = int(row[4])\n",
    "        total_comments += number_of_comments\n",
    "    \n",
    "    avg_comments = total_comments/len(dataset)\n",
    "    return avg_comments\n",
    "\n",
    "avg_ask_comments = find_average_number_of_comments_in_dataset(ask_posts)\n",
    "print(\"Average number of comments to 'Ask' posts:\", avg_ask_comments)\n",
    "avg_show_comments = find_average_number_of_comments_in_dataset(show_posts)\n",
    "print(\"Average number of comments to 'Show' posts:\", avg_show_comments)\n",
    "avg_other_comments = find_average_number_of_comments_in_dataset(other_posts)\n",
    "print(\"Average number of comments to other posts:\", avg_other_comments)"
   ]
  },
  {
   "cell_type": "markdown",
   "metadata": {},
   "source": [
    "## Finding the Number of Ask Posts and Comments by Hour Created\n",
    "\n",
    "We'll focus our remaining analysis just on 'Ask' posts.\n",
    "\n",
    "Next, we'll determine if 'Ask' posts created at a certain *time* are more likely to attract comments.\n",
    "\n",
    "### Calculate the amount of ask posts created during each hour of day and the number of comments received."
   ]
  },
  {
   "cell_type": "code",
   "execution_count": 9,
   "metadata": {},
   "outputs": [],
   "source": [
    "date_format = \"%m/%d/%Y %H:%M\"\n",
    "\n",
    "for row in ask_posts:\n",
    "    created_at = row[6]\n",
    "    try:\n",
    "        row[6] = dt.datetime.strptime(created_at, date_format)\n",
    "    except ValueError:\n",
    "        row[6] = created_at  # If the format is incorrect, leave the value as string\n",
    "        print(f'created_at for the row {row} was incorrect, returning it as string')"
   ]
  },
  {
   "cell_type": "code",
   "execution_count": 18,
   "metadata": {},
   "outputs": [
    {
     "name": "stdout",
     "output_type": "stream",
     "text": [
      "Created at hours: {9: 45, 13: 85, 10: 59, 14: 107, 16: 108, 23: 68, 12: 73, 17: 100, 15: 116, 21: 109, 20: 80, 2: 58, 18: 109, 3: 54, 5: 46, 19: 110, 1: 60, 22: 71, 8: 48, 4: 47, 0: 55, 6: 44, 7: 34, 11: 58}\n",
      "Comments at hours: {9: 251, 13: 1253, 10: 793, 14: 1416, 16: 1814, 23: 543, 12: 687, 17: 1146, 15: 4477, 21: 1745, 20: 1722, 2: 1381, 18: 1439, 3: 421, 5: 464, 19: 1188, 1: 683, 22: 479, 8: 492, 4: 337, 0: 447, 6: 397, 7: 267, 11: 641}\n",
      "Average comments at hours: {9: 5.5777777777777775, 22: 6.746478873239437, 4: 7.170212765957447, 3: 7.796296296296297, 7: 7.852941176470588, 23: 7.985294117647059, 0: 8.127272727272727, 6: 9.022727272727273, 12: 9.41095890410959, 5: 10.08695652173913, 8: 10.25, 19: 10.8, 11: 11.051724137931034, 1: 11.383333333333333, 17: 11.46, 18: 13.20183486238532, 14: 13.233644859813085, 10: 13.440677966101696, 13: 14.741176470588234, 21: 16.009174311926607, 16: 16.796296296296298, 20: 21.525, 2: 23.810344827586206, 15: 38.5948275862069}\n"
     ]
    }
   ],
   "source": [
    "created_at_hours = {}\n",
    "comments_at_hours = {}\n",
    "\n",
    "for row in ask_posts:\n",
    "    created_at = row[6]\n",
    "    amount_of_comments = int(row[4])\n",
    "    created_at_time = created_at.time()\n",
    "    created_at_hour = created_at_time.hour\n",
    "\n",
    "    if created_at_hour in created_at_hours:\n",
    "        created_at_hours[created_at_hour] += 1\n",
    "        comments_at_hours[created_at_hour] += amount_of_comments\n",
    "    else:\n",
    "        created_at_hours[created_at_hour] = 1\n",
    "        comments_at_hours[created_at_hour] = amount_of_comments\n",
    "\n",
    "print('Created at hours:', created_at_hours)\n",
    "print('Comments at hours:', comments_at_hours)\n",
    "\n",
    "average_comments_at_hours = {}\n",
    "\n",
    "for hour in comments_at_hours:\n",
    "    average_comments_at_hours[hour] = comments_at_hours[hour] / created_at_hours[hour]\n",
    "\n",
    "\n",
    "average_comments_at_hours = {k: v for k, v in sorted(average_comments_at_hours.items(), key=lambda item: item[1])}\n",
    "\n",
    "print('Average comments at hours:', average_comments_at_hours)"
   ]
  },
  {
   "cell_type": "code",
   "execution_count": null,
   "metadata": {},
   "outputs": [],
   "source": []
  }
 ],
 "metadata": {
  "kernelspec": {
   "display_name": "Python 3",
   "language": "python",
   "name": "python3"
  },
  "language_info": {
   "codemirror_mode": {
    "name": "ipython",
    "version": 3
   },
   "file_extension": ".py",
   "mimetype": "text/x-python",
   "name": "python",
   "nbconvert_exporter": "python",
   "pygments_lexer": "ipython3",
   "version": "3.10.4"
  },
  "orig_nbformat": 4
 },
 "nbformat": 4,
 "nbformat_minor": 2
}
