{
 "cells": [
  {
   "cell_type": "markdown",
   "metadata": {},
   "source": [
    "# AppStore and Google Play store analysis\n",
    "\n",
    "For this project, we'll pretend we're working as data analysts for a company that builds Android and iOS mobile apps. We make our apps available on Google Play and in the App Store.\n",
    "\n",
    "Our aim is to help our developers understand what type of apps are likely to attract more users on Google Play and the App Store."
   ]
  },
  {
   "cell_type": "markdown",
   "metadata": {},
   "source": [
    "Data sources:\n",
    "\n",
    "* [A dataset](https://www.kaggle.com/datasets/lava18/google-play-store-apps) containing data about approximately 10,000 Android apps from Google Play; the data was collected in August 2018. You can download the data set directly from [this link](https://dq-content.s3.amazonaws.com/350/googleplaystore.csv).\n",
    "* [A dataset](https://www.kaggle.com/datasets/ramamet4/app-store-apple-data-set-10k-apps) containing data about approximately 7,000 iOS apps from the App Store; the data was collected in July 2017. You can download the data set directly from [this link](https://dq-content.s3.amazonaws.com/350/AppleStore.csv)."
   ]
  },
  {
   "cell_type": "markdown",
   "metadata": {},
   "source": [
    "## Setup"
   ]
  },
  {
   "cell_type": "code",
   "execution_count": 1,
   "metadata": {},
   "outputs": [],
   "source": [
    "# Imports\n",
    "from csv import reader\n",
    "import codecs"
   ]
  },
  {
   "cell_type": "code",
   "execution_count": 2,
   "metadata": {},
   "outputs": [],
   "source": [
    "def open_file(filename, encoding=\"utf-8\"):\n",
    "    opened_file = codecs.open(filename, \"r\", encoding)\n",
    "    read_file = reader(opened_file)\n",
    "    apps_data = list(read_file)\n",
    "\n",
    "    return apps_data\n",
    "\n",
    "def explore_data(dataset, start, end, rows_and_columns=False):\n",
    "    dataset_slice = dataset[start:end]    \n",
    "    for row in dataset_slice:\n",
    "        print(row)\n",
    "        print('\\n') # adds a new (empty) line after each row\n",
    "\n",
    "    if rows_and_columns:\n",
    "        print('Number of rows:', len(dataset))\n",
    "        print('Number of columns:', len(dataset[0]))"
   ]
  },
  {
   "cell_type": "code",
   "execution_count": 3,
   "metadata": {},
   "outputs": [],
   "source": [
    "app_store_data = open_file('data/AppleStore.csv')\n",
    "google_play_store_data = open_file('data/googleplaystore.csv')\n",
    "\n",
    "app_store_data_header = app_store_data[0]\n",
    "app_store_data_content = app_store_data[1:]\n",
    "google_play_store_data_header = google_play_store_data[0]\n",
    "google_play_store_data_content = google_play_store_data[1:]"
   ]
  },
  {
   "cell_type": "code",
   "execution_count": 4,
   "metadata": {},
   "outputs": [
    {
     "name": "stdout",
     "output_type": "stream",
     "text": [
      "['284882215', 'Facebook', '389879808', 'USD', '0.0', '2974676', '212', '3.5', '3.5', '95.0', '4+', 'Social Networking', '37', '1', '29', '1']\n",
      "\n",
      "\n",
      "['389801252', 'Instagram', '113954816', 'USD', '0.0', '2161558', '1289', '4.5', '4.0', '10.23', '12+', 'Photo & Video', '37', '0', '29', '1']\n",
      "\n",
      "\n",
      "['529479190', 'Clash of Clans', '116476928', 'USD', '0.0', '2130805', '579', '4.5', '4.5', '9.24.12', '9+', 'Games', '38', '5', '18', '1']\n",
      "\n",
      "\n",
      "['420009108', 'Temple Run', '65921024', 'USD', '0.0', '1724546', '3842', '4.5', '4.0', '1.6.2', '9+', 'Games', '40', '5', '1', '1']\n",
      "\n",
      "\n",
      "['284035177', 'Pandora - Music & Radio', '130242560', 'USD', '0.0', '1126879', '3594', '4.0', '4.5', '8.4.1', '12+', 'Music', '37', '4', '1', '1']\n",
      "\n",
      "\n",
      "Number of rows: 7197\n",
      "Number of columns: 16\n",
      "['Photo Editor & Candy Camera & Grid & ScrapBook', 'ART_AND_DESIGN', '4.1', '159', '19M', '10,000+', 'Free', '0', 'Everyone', 'Art & Design', 'January 7, 2018', '1.0.0', '4.0.3 and up']\n",
      "\n",
      "\n",
      "['Coloring book moana', 'ART_AND_DESIGN', '3.9', '967', '14M', '500,000+', 'Free', '0', 'Everyone', 'Art & Design;Pretend Play', 'January 15, 2018', '2.0.0', '4.0.3 and up']\n",
      "\n",
      "\n",
      "['U Launcher Lite – FREE Live Cool Themes, Hide Apps', 'ART_AND_DESIGN', '4.7', '87510', '8.7M', '5,000,000+', 'Free', '0', 'Everyone', 'Art & Design', 'August 1, 2018', '1.2.4', '4.0.3 and up']\n",
      "\n",
      "\n",
      "['Sketch - Draw & Paint', 'ART_AND_DESIGN', '4.5', '215644', '25M', '50,000,000+', 'Free', '0', 'Teen', 'Art & Design', 'June 8, 2018', 'Varies with device', '4.2 and up']\n",
      "\n",
      "\n",
      "['Pixel Draw - Number Art Coloring Book', 'ART_AND_DESIGN', '4.3', '967', '2.8M', '100,000+', 'Free', '0', 'Everyone', 'Art & Design;Creativity', 'June 20, 2018', '1.1', '4.4 and up']\n",
      "\n",
      "\n",
      "Number of rows: 10841\n",
      "Number of columns: 13\n",
      "AppStore data header:\n",
      " ['id', 'track_name', 'size_bytes', 'currency', 'price', 'rating_count_tot', 'rating_count_ver', 'user_rating', 'user_rating_ver', 'ver', 'cont_rating', 'prime_genre', 'sup_devices.num', 'ipadSc_urls.num', 'lang.num', 'vpp_lic']\n",
      "GooglePlay data header:\n",
      " ['App', 'Category', 'Rating', 'Reviews', 'Size', 'Installs', 'Type', 'Price', 'Content Rating', 'Genres', 'Last Updated', 'Current Ver', 'Android Ver']\n"
     ]
    }
   ],
   "source": [
    "explore_data(app_store_data_content, 0, 5, rows_and_columns=True)\n",
    "explore_data(google_play_store_data_content, 0, 5, rows_and_columns=True)\n",
    "\n",
    "print(\"AppStore data header:\\n\", app_store_data_header)\n",
    "print(\"GooglePlay data header:\\n\", google_play_store_data_header)"
   ]
  },
  {
   "cell_type": "markdown",
   "metadata": {},
   "source": [
    "Columns that seem to be helpful for our future analysis are:\n",
    "\n",
    "* for AppStore dataset: 'price', 'rating_count_tot', 'prime_genre'\n",
    "* for GooglePlay dataset: 'Category', 'Installs'"
   ]
  },
  {
   "cell_type": "markdown",
   "metadata": {},
   "source": [
    "## Data cleaning\n",
    "\n",
    "We only build apps that are free to download and install, and we design them for an English-speaking audience. This means that we'll need to do the following:\n",
    "\n",
    "* Remove non-English apps\n",
    "* Remove apps that aren't free"
   ]
  },
  {
   "cell_type": "markdown",
   "metadata": {},
   "source": [
    "### Remove the app listing for the app missing Genre"
   ]
  },
  {
   "cell_type": "code",
   "execution_count": 5,
   "metadata": {},
   "outputs": [
    {
     "name": "stdout",
     "output_type": "stream",
     "text": [
      "['Jazz Wi-Fi', 'COMMUNICATION', '3.4', '49', '4.0M', '10,000+', 'Free', '0', 'Everyone', 'Communication', 'February 10, 2017', '0.1', '2.3 and up']\n",
      "\n",
      "\n",
      "['Xposed Wi-Fi-Pwd', 'PERSONALIZATION', '3.5', '1042', '404k', '100,000+', 'Free', '0', 'Everyone', 'Personalization', 'August 5, 2014', '3.0.0', '4.0.3 and up']\n",
      "\n",
      "\n",
      "['Life Made WI-Fi Touchscreen Photo Frame', '1.9', '19', '3.0M', '1,000+', 'Free', '0', 'Everyone', '', 'February 11, 2018', '1.0.19', '4.0 and up']\n",
      "\n",
      "\n",
      "['osmino Wi-Fi: free WiFi', 'TOOLS', '4.2', '134203', '4.1M', '10,000,000+', 'Free', '0', 'Everyone', 'Tools', 'August 7, 2018', '6.06.14', '4.4 and up']\n",
      "\n",
      "\n",
      "Number of rows: 10841\n",
      "Number of columns: 13\n"
     ]
    }
   ],
   "source": [
    "# Row 10472 for GooglePlay check\n",
    "explore_data(google_play_store_data_content, 10470, 10474, rows_and_columns=True)"
   ]
  },
  {
   "cell_type": "code",
   "execution_count": 6,
   "metadata": {},
   "outputs": [],
   "source": [
    "# This row has empty value in 'Genres' column, so we need to get rid of it\n",
    "del google_play_store_data_content[10472]"
   ]
  },
  {
   "cell_type": "code",
   "execution_count": 7,
   "metadata": {},
   "outputs": [
    {
     "name": "stdout",
     "output_type": "stream",
     "text": [
      "['Jazz Wi-Fi', 'COMMUNICATION', '3.4', '49', '4.0M', '10,000+', 'Free', '0', 'Everyone', 'Communication', 'February 10, 2017', '0.1', '2.3 and up']\n",
      "\n",
      "\n",
      "['Xposed Wi-Fi-Pwd', 'PERSONALIZATION', '3.5', '1042', '404k', '100,000+', 'Free', '0', 'Everyone', 'Personalization', 'August 5, 2014', '3.0.0', '4.0.3 and up']\n",
      "\n",
      "\n",
      "['osmino Wi-Fi: free WiFi', 'TOOLS', '4.2', '134203', '4.1M', '10,000,000+', 'Free', '0', 'Everyone', 'Tools', 'August 7, 2018', '6.06.14', '4.4 and up']\n",
      "\n",
      "\n",
      "['Sat-Fi Voice', 'COMMUNICATION', '3.4', '37', '14M', '1,000+', 'Free', '0', 'Everyone', 'Communication', 'November 21, 2014', '2.2.1.5', '2.2 and up']\n",
      "\n",
      "\n",
      "Number of rows: 10840\n",
      "Number of columns: 13\n"
     ]
    }
   ],
   "source": [
    "explore_data(google_play_store_data_content, 10470, 10474, rows_and_columns=True)"
   ]
  },
  {
   "cell_type": "markdown",
   "metadata": {},
   "source": [
    "### Remove duplicate apps\n",
    "\n",
    "For each duplicate app name, keep the row with the highest number of reviews and remove the other entries for any given app"
   ]
  },
  {
   "cell_type": "code",
   "execution_count": 8,
   "metadata": {},
   "outputs": [],
   "source": [
    "def remove_duplicate_names(dataset, name_column_idx, n_reviews_column_idx):\n",
    "    print(\"Dataset length:\", len(dataset))\n",
    "    duplicate_apps = []\n",
    "    unique_apps = []\n",
    "\n",
    "    for app in dataset:\n",
    "        name = app[name_column_idx]\n",
    "        if name in unique_apps:\n",
    "            duplicate_apps.append(name)\n",
    "        else:\n",
    "            unique_apps.append(name)\n",
    "\n",
    "    print(\"Unique apps:\", len(unique_apps))\n",
    "    print(\"Duplicate apps:\", len(duplicate_apps))\n",
    "\n",
    "    reviews_max = {}\n",
    "\n",
    "    for app in dataset:\n",
    "        name = app[name_column_idx]\n",
    "        n_reviews = float(app[n_reviews_column_idx])\n",
    "        if name in reviews_max:\n",
    "            if reviews_max[name] < n_reviews:\n",
    "                reviews_max[name] = n_reviews\n",
    "        else:\n",
    "            reviews_max[name] = n_reviews\n",
    "    \n",
    "    assert len(unique_apps) == len(reviews_max)\n",
    "\n",
    "    data_no_duplicates = []\n",
    "    already_added = []\n",
    "\n",
    "    for app in dataset:\n",
    "        name = app[name_column_idx]\n",
    "        n_reviews = float(app[n_reviews_column_idx])\n",
    "        if n_reviews == reviews_max[name] and name not in already_added:\n",
    "            data_no_duplicates.append(app)\n",
    "            already_added.append(name)\n",
    "\n",
    "    assert len(unique_apps) == len(data_no_duplicates)\n",
    "    \n",
    "    return data_no_duplicates"
   ]
  },
  {
   "cell_type": "code",
   "execution_count": 9,
   "metadata": {},
   "outputs": [
    {
     "name": "stdout",
     "output_type": "stream",
     "text": [
      "Dataset length: 7197\n",
      "Unique apps: 7195\n",
      "Duplicate apps: 2\n"
     ]
    }
   ],
   "source": [
    "app_store_data_no_duplicates = remove_duplicate_names(app_store_data_content, name_column_idx=1, n_reviews_column_idx=5)"
   ]
  },
  {
   "cell_type": "code",
   "execution_count": 10,
   "metadata": {},
   "outputs": [
    {
     "name": "stdout",
     "output_type": "stream",
     "text": [
      "Dataset length: 10840\n",
      "Unique apps: 9659\n",
      "Duplicate apps: 1181\n"
     ]
    }
   ],
   "source": [
    "google_play_data_no_duplicates = remove_duplicate_names(google_play_store_data_content, name_column_idx=0, n_reviews_column_idx=3)"
   ]
  },
  {
   "cell_type": "markdown",
   "metadata": {},
   "source": [
    "### Remove Non-English Apps\n",
    "\n"
   ]
  },
  {
   "cell_type": "code",
   "execution_count": 11,
   "metadata": {},
   "outputs": [],
   "source": [
    "def is_english_app_name(app_name):\n",
    "    non_english_char_count = 0\n",
    "    for char in app_name:\n",
    "        if ord(char) > 127:\n",
    "            non_english_char_count += 1\n",
    "    if non_english_char_count > 3:\n",
    "        return False\n",
    "    return True"
   ]
  },
  {
   "cell_type": "code",
   "execution_count": 12,
   "metadata": {},
   "outputs": [
    {
     "name": "stdout",
     "output_type": "stream",
     "text": [
      "True\n",
      "False\n",
      "True\n",
      "True\n"
     ]
    }
   ],
   "source": [
    "print(is_english_app_name('Instagram'))\n",
    "print(is_english_app_name('爱奇艺PPS -《欢乐颂2》电视剧热播'))\n",
    "print(is_english_app_name('Docs To Go™ Free Office Suite'))\n",
    "print(is_english_app_name('Instachat 😜'))"
   ]
  },
  {
   "cell_type": "code",
   "execution_count": 13,
   "metadata": {},
   "outputs": [],
   "source": [
    "def remove_non_english_apps(dataset, name_column_idx):\n",
    "    dataset_english_names = []\n",
    "    for app in dataset:\n",
    "        app_name = app[name_column_idx]\n",
    "        if is_english_app_name(app_name):\n",
    "            dataset_english_names.append(app)\n",
    "    return dataset_english_names"
   ]
  },
  {
   "cell_type": "code",
   "execution_count": 14,
   "metadata": {},
   "outputs": [
    {
     "name": "stdout",
     "output_type": "stream",
     "text": [
      "6181\n"
     ]
    }
   ],
   "source": [
    "# Remove non-English apps from AppStore data\n",
    "app_store_data_eng = remove_non_english_apps(app_store_data_no_duplicates, name_column_idx=1)\n",
    "print(len(app_store_data_eng))"
   ]
  },
  {
   "cell_type": "code",
   "execution_count": 15,
   "metadata": {},
   "outputs": [
    {
     "name": "stdout",
     "output_type": "stream",
     "text": [
      "9614\n"
     ]
    }
   ],
   "source": [
    "# Remove non-English apps from Google Play data\n",
    "google_play_data_eng = remove_non_english_apps(google_play_data_no_duplicates, name_column_idx=0)\n",
    "print(len(google_play_data_eng))"
   ]
  },
  {
   "cell_type": "markdown",
   "metadata": {},
   "source": [
    "### Isolate free apps"
   ]
  },
  {
   "cell_type": "code",
   "execution_count": 16,
   "metadata": {},
   "outputs": [],
   "source": [
    "def filter_free_apps(dataset, price_column_idx):\n",
    "    dataset_free_apps = []\n",
    "    for app in dataset:\n",
    "        try:\n",
    "            app_price = float(app[price_column_idx])\n",
    "        except ValueError:\n",
    "            app_price = float(app[price_column_idx][1:])\n",
    "        if app_price == 0.0:\n",
    "            dataset_free_apps.append(app)\n",
    "    return dataset_free_apps"
   ]
  },
  {
   "cell_type": "code",
   "execution_count": 17,
   "metadata": {},
   "outputs": [
    {
     "name": "stdout",
     "output_type": "stream",
     "text": [
      "3220\n"
     ]
    }
   ],
   "source": [
    "# Remove non-English apps from AppStore data\n",
    "app_store_cleaned = filter_free_apps(app_store_data_eng, price_column_idx=4)\n",
    "print(len(app_store_cleaned))"
   ]
  },
  {
   "cell_type": "code",
   "execution_count": 18,
   "metadata": {},
   "outputs": [
    {
     "name": "stdout",
     "output_type": "stream",
     "text": [
      "8864\n"
     ]
    }
   ],
   "source": [
    "# Remove non-English apps from Google Play data\n",
    "google_play_cleaned = filter_free_apps(google_play_data_eng, price_column_idx=7)\n",
    "print(len(google_play_cleaned))"
   ]
  },
  {
   "cell_type": "markdown",
   "metadata": {},
   "source": [
    "## Market analysis"
   ]
  },
  {
   "cell_type": "markdown",
   "metadata": {},
   "source": [
    "### Determine the most common genres for each market\n",
    "\n",
    "Generate frequency tables for app genres. We'll need to build a frequency table for the `prime_genre` column of the App Store data set, and for the `Genres` and `Category` columns of the Google Play data set."
   ]
  },
  {
   "cell_type": "code",
   "execution_count": 19,
   "metadata": {},
   "outputs": [],
   "source": [
    "def freq_table(dataset, index):\n",
    "    freq_table_dict = {}\n",
    "    for row in dataset:\n",
    "        value = row[index]\n",
    "        if value in freq_table_dict:\n",
    "            freq_table_dict[value] += 1\n",
    "        else:\n",
    "            freq_table_dict[value] = 1\n",
    "    return freq_table_dict\n",
    "\n",
    "\n",
    "def display_table(dataset, index):\n",
    "    table = freq_table(dataset, index)\n",
    "    table_display = []\n",
    "    for key in table:\n",
    "        key_val_as_tuple = (table[key], key)\n",
    "        table_display.append(key_val_as_tuple)\n",
    "\n",
    "    table_sorted = sorted(table_display, reverse = True)\n",
    "    for entry in table_sorted:\n",
    "        print(entry[1], ':', entry[0])"
   ]
  },
  {
   "cell_type": "code",
   "execution_count": 20,
   "metadata": {},
   "outputs": [
    {
     "name": "stdout",
     "output_type": "stream",
     "text": [
      "Games : 1872\n",
      "Entertainment : 254\n",
      "Photo & Video : 160\n",
      "Education : 118\n",
      "Social Networking : 106\n",
      "Shopping : 84\n",
      "Utilities : 81\n",
      "Sports : 69\n",
      "Music : 66\n",
      "Health & Fitness : 65\n",
      "Productivity : 56\n",
      "Lifestyle : 51\n",
      "News : 43\n",
      "Travel : 40\n",
      "Finance : 36\n",
      "Weather : 28\n",
      "Food & Drink : 26\n",
      "Reference : 18\n",
      "Business : 17\n",
      "Book : 14\n",
      "Navigation : 6\n",
      "Medical : 6\n",
      "Catalogs : 4\n"
     ]
    }
   ],
   "source": [
    "# Frequency table for prime_genre from AppStore data\n",
    "appstore_prime_genre_freq = freq_table(app_store_cleaned, 11)\n",
    "display_table(app_store_cleaned, 11)"
   ]
  },
  {
   "cell_type": "code",
   "execution_count": 21,
   "metadata": {},
   "outputs": [
    {
     "name": "stdout",
     "output_type": "stream",
     "text": [
      "Tools : 749\n",
      "Entertainment : 538\n",
      "Education : 474\n",
      "Business : 407\n",
      "Productivity : 345\n",
      "Lifestyle : 345\n",
      "Finance : 328\n",
      "Medical : 313\n",
      "Sports : 307\n",
      "Personalization : 294\n",
      "Communication : 287\n",
      "Action : 275\n",
      "Health & Fitness : 273\n",
      "Photography : 261\n",
      "News & Magazines : 248\n",
      "Social : 236\n",
      "Travel & Local : 206\n",
      "Shopping : 199\n",
      "Books & Reference : 190\n",
      "Simulation : 181\n",
      "Dating : 165\n",
      "Arcade : 164\n",
      "Video Players & Editors : 157\n",
      "Casual : 156\n",
      "Maps & Navigation : 124\n",
      "Food & Drink : 110\n",
      "Puzzle : 100\n",
      "Racing : 88\n",
      "Role Playing : 83\n",
      "Libraries & Demo : 83\n",
      "Auto & Vehicles : 82\n",
      "Strategy : 81\n",
      "House & Home : 73\n",
      "Weather : 71\n",
      "Events : 63\n",
      "Adventure : 60\n",
      "Comics : 54\n",
      "Beauty : 53\n",
      "Art & Design : 53\n",
      "Parenting : 44\n",
      "Card : 40\n",
      "Casino : 38\n",
      "Trivia : 37\n",
      "Educational;Education : 35\n",
      "Board : 34\n",
      "Educational : 33\n",
      "Education;Education : 30\n",
      "Word : 23\n",
      "Casual;Pretend Play : 21\n",
      "Music : 18\n",
      "Racing;Action & Adventure : 15\n",
      "Puzzle;Brain Games : 15\n",
      "Entertainment;Music & Video : 15\n",
      "Casual;Brain Games : 12\n",
      "Casual;Action & Adventure : 12\n",
      "Arcade;Action & Adventure : 11\n",
      "Action;Action & Adventure : 9\n",
      "Educational;Pretend Play : 8\n",
      "Simulation;Action & Adventure : 7\n",
      "Parenting;Education : 7\n",
      "Entertainment;Brain Games : 7\n",
      "Board;Brain Games : 7\n",
      "Parenting;Music & Video : 6\n",
      "Educational;Brain Games : 6\n",
      "Casual;Creativity : 6\n",
      "Art & Design;Creativity : 6\n",
      "Education;Pretend Play : 5\n",
      "Role Playing;Pretend Play : 4\n",
      "Education;Creativity : 4\n",
      "Role Playing;Action & Adventure : 3\n",
      "Puzzle;Action & Adventure : 3\n",
      "Entertainment;Creativity : 3\n",
      "Entertainment;Action & Adventure : 3\n",
      "Educational;Creativity : 3\n",
      "Educational;Action & Adventure : 3\n",
      "Education;Music & Video : 3\n",
      "Education;Brain Games : 3\n",
      "Education;Action & Adventure : 3\n",
      "Adventure;Action & Adventure : 3\n",
      "Video Players & Editors;Music & Video : 2\n",
      "Sports;Action & Adventure : 2\n",
      "Simulation;Pretend Play : 2\n",
      "Puzzle;Creativity : 2\n",
      "Music;Music & Video : 2\n",
      "Entertainment;Pretend Play : 2\n",
      "Casual;Education : 2\n",
      "Board;Action & Adventure : 2\n",
      "Video Players & Editors;Creativity : 1\n",
      "Trivia;Education : 1\n",
      "Travel & Local;Action & Adventure : 1\n",
      "Tools;Education : 1\n",
      "Strategy;Education : 1\n",
      "Strategy;Creativity : 1\n",
      "Strategy;Action & Adventure : 1\n",
      "Simulation;Education : 1\n",
      "Role Playing;Brain Games : 1\n",
      "Racing;Pretend Play : 1\n",
      "Puzzle;Education : 1\n",
      "Parenting;Brain Games : 1\n",
      "Music & Audio;Music & Video : 1\n",
      "Lifestyle;Pretend Play : 1\n",
      "Lifestyle;Education : 1\n",
      "Health & Fitness;Education : 1\n",
      "Health & Fitness;Action & Adventure : 1\n",
      "Entertainment;Education : 1\n",
      "Communication;Creativity : 1\n",
      "Comics;Creativity : 1\n",
      "Casual;Music & Video : 1\n",
      "Card;Action & Adventure : 1\n",
      "Books & Reference;Education : 1\n",
      "Art & Design;Pretend Play : 1\n",
      "Art & Design;Action & Adventure : 1\n",
      "Arcade;Pretend Play : 1\n",
      "Adventure;Education : 1\n"
     ]
    }
   ],
   "source": [
    "# Frequency table for Genres from Google Play data\n",
    "googleplay_genres_freq = freq_table(google_play_cleaned, 9)\n",
    "display_table(google_play_cleaned, 9)"
   ]
  },
  {
   "cell_type": "code",
   "execution_count": 22,
   "metadata": {},
   "outputs": [
    {
     "name": "stdout",
     "output_type": "stream",
     "text": [
      "FAMILY : 1676\n",
      "GAME : 862\n",
      "TOOLS : 750\n",
      "BUSINESS : 407\n",
      "LIFESTYLE : 346\n",
      "PRODUCTIVITY : 345\n",
      "FINANCE : 328\n",
      "MEDICAL : 313\n",
      "SPORTS : 301\n",
      "PERSONALIZATION : 294\n",
      "COMMUNICATION : 287\n",
      "HEALTH_AND_FITNESS : 273\n",
      "PHOTOGRAPHY : 261\n",
      "NEWS_AND_MAGAZINES : 248\n",
      "SOCIAL : 236\n",
      "TRAVEL_AND_LOCAL : 207\n",
      "SHOPPING : 199\n",
      "BOOKS_AND_REFERENCE : 190\n",
      "DATING : 165\n",
      "VIDEO_PLAYERS : 159\n",
      "MAPS_AND_NAVIGATION : 124\n",
      "FOOD_AND_DRINK : 110\n",
      "EDUCATION : 103\n",
      "ENTERTAINMENT : 85\n",
      "LIBRARIES_AND_DEMO : 83\n",
      "AUTO_AND_VEHICLES : 82\n",
      "HOUSE_AND_HOME : 73\n",
      "WEATHER : 71\n",
      "EVENTS : 63\n",
      "PARENTING : 58\n",
      "ART_AND_DESIGN : 57\n",
      "COMICS : 55\n",
      "BEAUTY : 53\n"
     ]
    }
   ],
   "source": [
    "# Frequency table for Category from Google Play data\n",
    "googleplay_category_freq = freq_table(google_play_cleaned, 1)\n",
    "display_table(google_play_cleaned, 1)"
   ]
  },
  {
   "cell_type": "markdown",
   "metadata": {},
   "source": [
    "### Find average number of app users by genre"
   ]
  },
  {
   "cell_type": "code",
   "execution_count": 23,
   "metadata": {},
   "outputs": [],
   "source": [
    "def avg_users_by_genre(dataset, index_genre, index_installs, genre_freq_table):\n",
    "    users_by_genre_dict = {}\n",
    "    for row in dataset:\n",
    "        app_genre = row[index_genre]\n",
    "        try:\n",
    "            app_installs = int(row[index_installs])\n",
    "        except ValueError:\n",
    "            app_installs = int(row[index_installs].replace('+', '').replace(',', ''))\n",
    "        if app_genre in users_by_genre_dict:\n",
    "            users_by_genre_dict[app_genre] += app_installs\n",
    "        else:\n",
    "            users_by_genre_dict[app_genre] = app_installs\n",
    "    # Take the average using freq table\n",
    "    for item in users_by_genre_dict:\n",
    "        users_by_genre_dict[item] /= genre_freq_table[item]\n",
    "    \n",
    "    # Sort and ready for printing    \n",
    "    table_display = []\n",
    "    for key in users_by_genre_dict:\n",
    "        key_val_as_tuple = (users_by_genre_dict[key], key)\n",
    "        table_display.append(key_val_as_tuple)\n",
    "\n",
    "    table_sorted = sorted(table_display, reverse = True)\n",
    "    for entry in table_sorted:\n",
    "        print(entry[1], ':', entry[0])\n",
    "\n",
    "    return users_by_genre_dict"
   ]
  },
  {
   "cell_type": "code",
   "execution_count": 24,
   "metadata": {},
   "outputs": [
    {
     "name": "stdout",
     "output_type": "stream",
     "text": [
      "Navigation : 86090.33333333333\n",
      "Reference : 74942.11111111111\n",
      "Social Networking : 71548.34905660378\n",
      "Music : 57326.530303030304\n",
      "Weather : 52279.892857142855\n",
      "Book : 39758.5\n",
      "Food & Drink : 33333.92307692308\n",
      "Finance : 31467.944444444445\n",
      "Photo & Video : 28441.54375\n",
      "Travel : 28243.8\n",
      "Shopping : 26919.690476190477\n",
      "Health & Fitness : 23298.015384615384\n",
      "Sports : 23008.898550724636\n",
      "Games : 22812.92467948718\n",
      "News : 21248.023255813954\n",
      "Productivity : 21028.410714285714\n",
      "Utilities : 18684.456790123455\n",
      "Lifestyle : 16485.764705882353\n",
      "Entertainment : 14029.830708661417\n",
      "Business : 7491.117647058823\n",
      "Education : 7003.983050847458\n",
      "Catalogs : 4004.0\n",
      "Medical : 612.0\n"
     ]
    }
   ],
   "source": [
    "appstore_avg_users_by_genre = avg_users_by_genre(app_store_cleaned, 11, 5, appstore_prime_genre_freq)"
   ]
  },
  {
   "cell_type": "code",
   "execution_count": 25,
   "metadata": {},
   "outputs": [
    {
     "name": "stdout",
     "output_type": "stream",
     "text": [
      "Adventure;Action & Adventure : 1513269.0\n",
      "Strategy : 1251841.8148148148\n",
      "Communication : 995608.4634146341\n",
      "Social : 965830.9872881356\n",
      "Casual;Action & Adventure : 942726.4166666666\n",
      "Card;Action & Adventure : 920571.0\n",
      "Casual : 837706.0064102564\n",
      "Sports;Action & Adventure : 730014.0\n",
      "Arcade : 708829.8353658536\n",
      "Racing : 597997.1590909091\n",
      "Action : 544975.6218181818\n",
      "Puzzle;Action & Adventure : 533895.3333333334\n",
      "Video Players & Editors : 428992.6050955414\n",
      "Photography : 404081.3754789272\n",
      "Tools;Education : 342336.0\n",
      "Role Playing;Action & Adventure : 322308.3333333333\n",
      "Tools : 305684.02803738316\n",
      "Adventure : 302214.93333333335\n",
      "Adventure;Education : 288606.0\n",
      "Role Playing : 249256.8313253012\n",
      "Education;Education : 234564.86666666667\n",
      "Word : 228272.04347826086\n",
      "Educational;Action & Adventure : 225802.33333333334\n",
      "Shopping : 223887.34673366835\n",
      "Music : 216456.44444444444\n",
      "Puzzle : 215662.56\n",
      "Educational;Pretend Play : 214720.125\n",
      "Sports : 213438.38436482084\n",
      "Racing;Action & Adventure : 203194.86666666667\n",
      "Trivia : 193939.56756756757\n",
      "Education;Brain Games : 192591.0\n",
      "Personalization : 181122.31632653062\n",
      "Simulation;Action & Adventure : 175951.85714285713\n",
      "Weather : 171250.77464788733\n",
      "Card : 166334.975\n",
      "Productivity : 160634.5420289855\n",
      "Video Players & Editors;Creativity : 159622.0\n",
      "Puzzle;Brain Games : 157446.0\n",
      "Role Playing;Brain Games : 151374.0\n",
      "Entertainment;Creativity : 143559.33333333334\n",
      "Maps & Navigation : 142860.0483870968\n",
      "Simulation : 142850.22099447515\n",
      "Lifestyle;Pretend Play : 140995.0\n",
      "Casino : 134314.57894736843\n",
      "Travel & Local : 130108.66990291262\n",
      "Strategy;Creativity : 129542.0\n",
      "Action;Action & Adventure : 128986.11111111111\n",
      "Board : 121552.94117647059\n",
      "Casual;Pretend Play : 105424.80952380953\n",
      "Entertainment : 103389.24721189591\n",
      "Arcade;Action & Adventure : 100802.54545454546\n",
      "News & Magazines : 93088.03225806452\n",
      "Casual;Creativity : 88508.83333333333\n",
      "Books & Reference : 87995.06842105264\n",
      "Entertainment;Music & Video : 79679.53333333334\n",
      "Video Players & Editors;Music & Video : 79490.5\n",
      "Entertainment;Brain Games : 79104.28571428571\n",
      "Health & Fitness : 78094.9706959707\n",
      "Food & Drink : 57478.79090909091\n",
      "Role Playing;Pretend Play : 55798.0\n",
      "Entertainment;Pretend Play : 53655.0\n",
      "Entertainment;Action & Adventure : 45750.0\n",
      "Comics : 43364.68518518518\n",
      "Puzzle;Creativity : 38619.5\n",
      "Finance : 38535.8993902439\n",
      "Casual;Music & Video : 38021.0\n",
      "Simulation;Pretend Play : 37664.5\n",
      "Board;Action & Adventure : 37283.0\n",
      "Lifestyle : 33611.46666666667\n",
      "Health & Fitness;Action & Adventure : 31061.0\n",
      "House & Home : 26435.465753424658\n",
      "Art & Design : 26119.11320754717\n",
      "Music;Music & Video : 25474.0\n",
      "Education;Pretend Play : 25151.4\n",
      "Business : 24239.727272727272\n",
      "Arcade;Pretend Play : 23671.0\n",
      "Dating : 21953.272727272728\n",
      "Educational;Brain Games : 20885.333333333332\n",
      "Parenting : 20562.590909090908\n",
      "Strategy;Action & Adventure : 19170.0\n",
      "Education : 16211.383966244726\n",
      "Education;Music & Video : 14945.333333333334\n",
      "Educational;Creativity : 14829.0\n",
      "Auto & Vehicles : 14140.280487804877\n",
      "Casual;Education : 13817.5\n",
      "Educational;Education : 12010.228571428572\n",
      "Libraries & Demo : 10925.807228915663\n",
      "Casual;Brain Games : 10477.0\n",
      "Health & Fitness;Education : 9856.0\n",
      "Beauty : 7476.226415094339\n",
      "Entertainment;Education : 7320.0\n",
      "Educational : 7073.636363636364\n",
      "Education;Creativity : 6384.25\n",
      "Art & Design;Creativity : 5677.833333333333\n",
      "Education;Action & Adventure : 5176.333333333333\n",
      "Parenting;Music & Video : 4371.333333333333\n",
      "Medical : 3730.1533546325877\n",
      "Parenting;Brain Games : 3614.0\n",
      "Communication;Creativity : 3478.0\n",
      "Lifestyle;Education : 3146.0\n",
      "Events : 2555.84126984127\n",
      "Board;Brain Games : 2249.1428571428573\n",
      "Racing;Pretend Play : 2200.0\n",
      "Parenting;Education : 2195.5714285714284\n",
      "Strategy;Education : 2062.0\n",
      "Music & Audio;Music & Video : 1369.0\n",
      "Art & Design;Pretend Play : 974.0\n",
      "Travel & Local;Action & Adventure : 890.0\n",
      "Puzzle;Education : 834.0\n",
      "Comics;Creativity : 516.0\n",
      "Art & Design;Action & Adventure : 65.0\n",
      "Books & Reference;Education : 42.0\n",
      "Simulation;Education : 16.0\n",
      "Trivia;Education : 8.0\n"
     ]
    }
   ],
   "source": [
    "googleplay_avg_users_by_genres = avg_users_by_genre(google_play_cleaned, 9, 3, googleplay_genres_freq)"
   ]
  },
  {
   "cell_type": "code",
   "execution_count": 26,
   "metadata": {},
   "outputs": [
    {
     "name": "stdout",
     "output_type": "stream",
     "text": [
      "COMMUNICATION : 995608.4634146341\n",
      "SOCIAL : 965830.9872881356\n",
      "GAME : 683523.8445475638\n",
      "VIDEO_PLAYERS : 425350.08176100627\n",
      "PHOTOGRAPHY : 404081.3754789272\n",
      "TOOLS : 305732.8973333333\n",
      "ENTERTAINMENT : 301752.24705882353\n",
      "SHOPPING : 223887.34673366835\n",
      "PERSONALIZATION : 181122.31632653062\n",
      "WEATHER : 171250.77464788733\n",
      "PRODUCTIVITY : 160634.5420289855\n",
      "MAPS_AND_NAVIGATION : 142860.0483870968\n",
      "TRAVEL_AND_LOCAL : 129484.42512077295\n",
      "SPORTS : 116938.6146179402\n",
      "FAMILY : 113142.99821002387\n",
      "NEWS_AND_MAGAZINES : 93088.03225806452\n",
      "BOOKS_AND_REFERENCE : 87995.06842105264\n",
      "HEALTH_AND_FITNESS : 78094.9706959707\n",
      "FOOD_AND_DRINK : 57478.79090909091\n",
      "EDUCATION : 56293.09708737864\n",
      "COMICS : 42585.61818181818\n",
      "FINANCE : 38535.8993902439\n",
      "LIFESTYLE : 33921.82369942196\n",
      "HOUSE_AND_HOME : 26435.465753424658\n",
      "ART_AND_DESIGN : 24699.42105263158\n",
      "BUSINESS : 24239.727272727272\n",
      "DATING : 21953.272727272728\n",
      "PARENTING : 16378.706896551725\n",
      "AUTO_AND_VEHICLES : 14140.280487804877\n",
      "LIBRARIES_AND_DEMO : 10925.807228915663\n",
      "BEAUTY : 7476.226415094339\n",
      "MEDICAL : 3730.1533546325877\n",
      "EVENTS : 2555.84126984127\n"
     ]
    }
   ],
   "source": [
    "googleplay_avg_users_by_category = avg_users_by_genre(google_play_cleaned, 1, 3, googleplay_category_freq)"
   ]
  },
  {
   "cell_type": "markdown",
   "metadata": {},
   "source": [
    "### Analyze total installs on Google Play"
   ]
  },
  {
   "cell_type": "code",
   "execution_count": 27,
   "metadata": {},
   "outputs": [
    {
     "name": "stdout",
     "output_type": "stream",
     "text": [
      "COMMUNICATION : 38456119.167247385\n",
      "VIDEO_PLAYERS : 24727872.452830188\n",
      "SOCIAL : 23253652.127118643\n",
      "PHOTOGRAPHY : 17840110.40229885\n",
      "PRODUCTIVITY : 16787331.344927534\n",
      "GAME : 15588015.603248259\n",
      "TRAVEL_AND_LOCAL : 13984077.710144928\n",
      "ENTERTAINMENT : 11640705.88235294\n",
      "TOOLS : 10801391.298666667\n",
      "NEWS_AND_MAGAZINES : 9549178.467741935\n",
      "BOOKS_AND_REFERENCE : 8767811.894736841\n",
      "SHOPPING : 7036877.311557789\n",
      "PERSONALIZATION : 5201482.6122448975\n",
      "WEATHER : 5074486.197183099\n",
      "HEALTH_AND_FITNESS : 4188821.9853479853\n",
      "MAPS_AND_NAVIGATION : 4056941.7741935486\n",
      "FAMILY : 3695641.8198090694\n",
      "SPORTS : 3638640.1428571427\n",
      "ART_AND_DESIGN : 1986335.0877192982\n",
      "FOOD_AND_DRINK : 1924897.7363636363\n",
      "EDUCATION : 1833495.145631068\n",
      "BUSINESS : 1712290.1474201474\n",
      "LIFESTYLE : 1437816.2687861272\n",
      "FINANCE : 1387692.475609756\n",
      "HOUSE_AND_HOME : 1331540.5616438356\n",
      "DATING : 854028.8303030303\n",
      "COMICS : 817657.2727272727\n",
      "AUTO_AND_VEHICLES : 647317.8170731707\n",
      "LIBRARIES_AND_DEMO : 638503.734939759\n",
      "PARENTING : 542603.6206896552\n",
      "BEAUTY : 513151.88679245283\n",
      "EVENTS : 253542.22222222222\n",
      "MEDICAL : 120550.61980830671\n"
     ]
    }
   ],
   "source": [
    "googleplay_avg_installs_by_category = avg_users_by_genre(google_play_cleaned, 1, 5, googleplay_category_freq)"
   ]
  },
  {
   "cell_type": "markdown",
   "metadata": {},
   "source": [
    "## Analyzing the results and conclusions"
   ]
  },
  {
   "cell_type": "markdown",
   "metadata": {},
   "source": [
    "### AppStore\n",
    "\n",
    "Games are the type of apps that is more often met in the AppStore. Much often than others. So it's a competitive field. But Games don't attract that many users. Navigation and Reference are the opposite - a lot of users, not so many apps. So maybe it's a good idea to try to enter that market.\n",
    "Social Networking seems to be the most balanced choice - a competitive market plus rather much installs."
   ]
  },
  {
   "cell_type": "markdown",
   "metadata": {},
   "source": [
    "### Google Play genres\n",
    "\n",
    "Here amount of apps in the category almost don't overlap with the popular apps. So I'd recommend that we rely on the number of installs and select categories on 5-6-7 places (Casual or Sports here)."
   ]
  },
  {
   "cell_type": "markdown",
   "metadata": {},
   "source": [
    "### Google Play categories\n",
    "\n",
    "Communication, social and games have a lot of installs and look also attractive from the market perspective. But it may be too huge for us, so let's choose some less popular categories of the market - photography, entertainment and shopping"
   ]
  },
  {
   "cell_type": "code",
   "execution_count": 29,
   "metadata": {},
   "outputs": [],
   "source": [
    "%history -p"
   ]
  }
 ],
 "metadata": {
  "kernelspec": {
   "display_name": "Python 3",
   "language": "python",
   "name": "python3"
  },
  "language_info": {
   "codemirror_mode": {
    "name": "ipython",
    "version": 3
   },
   "file_extension": ".py",
   "mimetype": "text/x-python",
   "name": "python",
   "nbconvert_exporter": "python",
   "pygments_lexer": "ipython3",
   "version": "3.10.4"
  },
  "orig_nbformat": 4
 },
 "nbformat": 4,
 "nbformat_minor": 2
}
